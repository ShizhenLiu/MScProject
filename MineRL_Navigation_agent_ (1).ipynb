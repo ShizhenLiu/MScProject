{
  "nbformat": 4,
  "nbformat_minor": 0,
  "metadata": {
    "colab": {
      "provenance": [],
      "gpuType": "V100",
      "collapsed_sections": [
        "_ogOceIgb41b",
        "B92RS7Yih3VJ",
        "_wEBEhzsb_9q",
        "Fg7o-TvicHHL",
        "5kUHxoWScUBs",
        "qjsvJGyZcWgJ"
      ]
    },
    "kernelspec": {
      "name": "python3",
      "display_name": "Python 3"
    },
    "language_info": {
      "name": "python"
    },
    "widgets": {
      "application/vnd.jupyter.widget-state+json": {
        "f33b5e2dbc494be4bd24bc9015731ae5": {
          "model_module": "@jupyter-widgets/controls",
          "model_name": "HBoxModel",
          "model_module_version": "1.5.0",
          "state": {
            "_dom_classes": [],
            "_model_module": "@jupyter-widgets/controls",
            "_model_module_version": "1.5.0",
            "_model_name": "HBoxModel",
            "_view_count": null,
            "_view_module": "@jupyter-widgets/controls",
            "_view_module_version": "1.5.0",
            "_view_name": "HBoxView",
            "box_style": "",
            "children": [
              "IPY_MODEL_bdb9e694f7db406bbfef9becc7b94ab4",
              "IPY_MODEL_ff20a39102b84eda9545de09b8c5fc6c",
              "IPY_MODEL_07641941a9404f0084b1e66f77d4daae"
            ],
            "layout": "IPY_MODEL_dfda108b1bfc4882813709a51e59ffeb"
          }
        },
        "bdb9e694f7db406bbfef9becc7b94ab4": {
          "model_module": "@jupyter-widgets/controls",
          "model_name": "HTMLModel",
          "model_module_version": "1.5.0",
          "state": {
            "_dom_classes": [],
            "_model_module": "@jupyter-widgets/controls",
            "_model_module_version": "1.5.0",
            "_model_name": "HTMLModel",
            "_view_count": null,
            "_view_module": "@jupyter-widgets/controls",
            "_view_module_version": "1.5.0",
            "_view_name": "HTMLView",
            "description": "",
            "description_tooltip": null,
            "layout": "IPY_MODEL_cc8aa5920bc44897adc59f1a6954d275",
            "placeholder": "​",
            "style": "IPY_MODEL_57c8410e278945199aa5e6e27454e548",
            "value": ""
          }
        },
        "ff20a39102b84eda9545de09b8c5fc6c": {
          "model_module": "@jupyter-widgets/controls",
          "model_name": "FloatProgressModel",
          "model_module_version": "1.5.0",
          "state": {
            "_dom_classes": [],
            "_model_module": "@jupyter-widgets/controls",
            "_model_module_version": "1.5.0",
            "_model_name": "FloatProgressModel",
            "_view_count": null,
            "_view_module": "@jupyter-widgets/controls",
            "_view_module_version": "1.5.0",
            "_view_name": "ProgressView",
            "bar_style": "success",
            "description": "",
            "description_tooltip": null,
            "layout": "IPY_MODEL_d028d0f6452c46b5aacbfd7c74d96416",
            "max": 1,
            "min": 0,
            "orientation": "horizontal",
            "style": "IPY_MODEL_465fc6983041435292506542e2cc183e",
            "value": 1
          }
        },
        "07641941a9404f0084b1e66f77d4daae": {
          "model_module": "@jupyter-widgets/controls",
          "model_name": "HTMLModel",
          "model_module_version": "1.5.0",
          "state": {
            "_dom_classes": [],
            "_model_module": "@jupyter-widgets/controls",
            "_model_module_version": "1.5.0",
            "_model_name": "HTMLModel",
            "_view_count": null,
            "_view_module": "@jupyter-widgets/controls",
            "_view_module_version": "1.5.0",
            "_view_name": "HTMLView",
            "description": "",
            "description_tooltip": null,
            "layout": "IPY_MODEL_419bec2f683a4eafa6d60ba39f910568",
            "placeholder": "​",
            "style": "IPY_MODEL_83563faf389645979c92ad059c72efda",
            "value": " 38299/? [09:24&lt;00:00, 99.79it/s]"
          }
        },
        "dfda108b1bfc4882813709a51e59ffeb": {
          "model_module": "@jupyter-widgets/base",
          "model_name": "LayoutModel",
          "model_module_version": "1.2.0",
          "state": {
            "_model_module": "@jupyter-widgets/base",
            "_model_module_version": "1.2.0",
            "_model_name": "LayoutModel",
            "_view_count": null,
            "_view_module": "@jupyter-widgets/base",
            "_view_module_version": "1.2.0",
            "_view_name": "LayoutView",
            "align_content": null,
            "align_items": null,
            "align_self": null,
            "border": null,
            "bottom": null,
            "display": null,
            "flex": null,
            "flex_flow": null,
            "grid_area": null,
            "grid_auto_columns": null,
            "grid_auto_flow": null,
            "grid_auto_rows": null,
            "grid_column": null,
            "grid_gap": null,
            "grid_row": null,
            "grid_template_areas": null,
            "grid_template_columns": null,
            "grid_template_rows": null,
            "height": null,
            "justify_content": null,
            "justify_items": null,
            "left": null,
            "margin": null,
            "max_height": null,
            "max_width": null,
            "min_height": null,
            "min_width": null,
            "object_fit": null,
            "object_position": null,
            "order": null,
            "overflow": null,
            "overflow_x": null,
            "overflow_y": null,
            "padding": null,
            "right": null,
            "top": null,
            "visibility": null,
            "width": null
          }
        },
        "cc8aa5920bc44897adc59f1a6954d275": {
          "model_module": "@jupyter-widgets/base",
          "model_name": "LayoutModel",
          "model_module_version": "1.2.0",
          "state": {
            "_model_module": "@jupyter-widgets/base",
            "_model_module_version": "1.2.0",
            "_model_name": "LayoutModel",
            "_view_count": null,
            "_view_module": "@jupyter-widgets/base",
            "_view_module_version": "1.2.0",
            "_view_name": "LayoutView",
            "align_content": null,
            "align_items": null,
            "align_self": null,
            "border": null,
            "bottom": null,
            "display": null,
            "flex": null,
            "flex_flow": null,
            "grid_area": null,
            "grid_auto_columns": null,
            "grid_auto_flow": null,
            "grid_auto_rows": null,
            "grid_column": null,
            "grid_gap": null,
            "grid_row": null,
            "grid_template_areas": null,
            "grid_template_columns": null,
            "grid_template_rows": null,
            "height": null,
            "justify_content": null,
            "justify_items": null,
            "left": null,
            "margin": null,
            "max_height": null,
            "max_width": null,
            "min_height": null,
            "min_width": null,
            "object_fit": null,
            "object_position": null,
            "order": null,
            "overflow": null,
            "overflow_x": null,
            "overflow_y": null,
            "padding": null,
            "right": null,
            "top": null,
            "visibility": null,
            "width": null
          }
        },
        "57c8410e278945199aa5e6e27454e548": {
          "model_module": "@jupyter-widgets/controls",
          "model_name": "DescriptionStyleModel",
          "model_module_version": "1.5.0",
          "state": {
            "_model_module": "@jupyter-widgets/controls",
            "_model_module_version": "1.5.0",
            "_model_name": "DescriptionStyleModel",
            "_view_count": null,
            "_view_module": "@jupyter-widgets/base",
            "_view_module_version": "1.2.0",
            "_view_name": "StyleView",
            "description_width": ""
          }
        },
        "d028d0f6452c46b5aacbfd7c74d96416": {
          "model_module": "@jupyter-widgets/base",
          "model_name": "LayoutModel",
          "model_module_version": "1.2.0",
          "state": {
            "_model_module": "@jupyter-widgets/base",
            "_model_module_version": "1.2.0",
            "_model_name": "LayoutModel",
            "_view_count": null,
            "_view_module": "@jupyter-widgets/base",
            "_view_module_version": "1.2.0",
            "_view_name": "LayoutView",
            "align_content": null,
            "align_items": null,
            "align_self": null,
            "border": null,
            "bottom": null,
            "display": null,
            "flex": null,
            "flex_flow": null,
            "grid_area": null,
            "grid_auto_columns": null,
            "grid_auto_flow": null,
            "grid_auto_rows": null,
            "grid_column": null,
            "grid_gap": null,
            "grid_row": null,
            "grid_template_areas": null,
            "grid_template_columns": null,
            "grid_template_rows": null,
            "height": null,
            "justify_content": null,
            "justify_items": null,
            "left": null,
            "margin": null,
            "max_height": null,
            "max_width": null,
            "min_height": null,
            "min_width": null,
            "object_fit": null,
            "object_position": null,
            "order": null,
            "overflow": null,
            "overflow_x": null,
            "overflow_y": null,
            "padding": null,
            "right": null,
            "top": null,
            "visibility": null,
            "width": "20px"
          }
        },
        "465fc6983041435292506542e2cc183e": {
          "model_module": "@jupyter-widgets/controls",
          "model_name": "ProgressStyleModel",
          "model_module_version": "1.5.0",
          "state": {
            "_model_module": "@jupyter-widgets/controls",
            "_model_module_version": "1.5.0",
            "_model_name": "ProgressStyleModel",
            "_view_count": null,
            "_view_module": "@jupyter-widgets/base",
            "_view_module_version": "1.2.0",
            "_view_name": "StyleView",
            "bar_color": null,
            "description_width": ""
          }
        },
        "419bec2f683a4eafa6d60ba39f910568": {
          "model_module": "@jupyter-widgets/base",
          "model_name": "LayoutModel",
          "model_module_version": "1.2.0",
          "state": {
            "_model_module": "@jupyter-widgets/base",
            "_model_module_version": "1.2.0",
            "_model_name": "LayoutModel",
            "_view_count": null,
            "_view_module": "@jupyter-widgets/base",
            "_view_module_version": "1.2.0",
            "_view_name": "LayoutView",
            "align_content": null,
            "align_items": null,
            "align_self": null,
            "border": null,
            "bottom": null,
            "display": null,
            "flex": null,
            "flex_flow": null,
            "grid_area": null,
            "grid_auto_columns": null,
            "grid_auto_flow": null,
            "grid_auto_rows": null,
            "grid_column": null,
            "grid_gap": null,
            "grid_row": null,
            "grid_template_areas": null,
            "grid_template_columns": null,
            "grid_template_rows": null,
            "height": null,
            "justify_content": null,
            "justify_items": null,
            "left": null,
            "margin": null,
            "max_height": null,
            "max_width": null,
            "min_height": null,
            "min_width": null,
            "object_fit": null,
            "object_position": null,
            "order": null,
            "overflow": null,
            "overflow_x": null,
            "overflow_y": null,
            "padding": null,
            "right": null,
            "top": null,
            "visibility": null,
            "width": null
          }
        },
        "83563faf389645979c92ad059c72efda": {
          "model_module": "@jupyter-widgets/controls",
          "model_name": "DescriptionStyleModel",
          "model_module_version": "1.5.0",
          "state": {
            "_model_module": "@jupyter-widgets/controls",
            "_model_module_version": "1.5.0",
            "_model_name": "DescriptionStyleModel",
            "_view_count": null,
            "_view_module": "@jupyter-widgets/base",
            "_view_module_version": "1.2.0",
            "_view_name": "StyleView",
            "description_width": ""
          }
        }
      }
    }
  },
  "cells": [
    {
      "cell_type": "markdown",
      "source": [
        "#Install MineRL 1.0.0"
      ],
      "metadata": {
        "id": "_ogOceIgb41b"
      }
    },
    {
      "cell_type": "code",
      "execution_count": null,
      "metadata": {
        "id": "IefT6q_HbuOW"
      },
      "outputs": [],
      "source": [
        "%%capture\n",
        "!sudo add-apt-repository -y ppa:openjdk-r/ppa\n",
        "!sudo apt-get purge openjdk-*\n",
        "!sudo apt-get install openjdk-8-jdk\n",
        "!sudo apt-get install xvfb\n",
        "!sudo apt-get install xserver-xephyr\n",
        "!sudo apt-get install vnc4server\n",
        "!sudo apt-get install python-opengl\n",
        "!sudo apt-get install ffmpeg"
      ]
    },
    {
      "cell_type": "code",
      "source": [
        "%%capture\n",
        "!pip3 install pyvirtualdisplay\n",
        "!pip3 install -U colabgymrender\n",
        "!pip3 install imageio==2.4.1"
      ],
      "metadata": {
        "id": "qOFYw6Neb8UO"
      },
      "execution_count": null,
      "outputs": []
    },
    {
      "cell_type": "code",
      "source": [
        "!pip3 install git+https://github.com/minerllabs/minerl"
      ],
      "metadata": {
        "colab": {
          "base_uri": "https://localhost:8080/",
          "height": 1000
        },
        "id": "omVl8-V9b9O5",
        "outputId": "de003edf-3464-4d5c-8d08-e96f9cfe1448"
      },
      "execution_count": null,
      "outputs": [
        {
          "output_type": "stream",
          "name": "stdout",
          "text": [
            "Collecting git+https://github.com/minerllabs/minerl\n",
            "  Cloning https://github.com/minerllabs/minerl to /tmp/pip-req-build-7bm01atu\n",
            "  Running command git clone --filter=blob:none --quiet https://github.com/minerllabs/minerl /tmp/pip-req-build-7bm01atu\n",
            "  Resolved https://github.com/minerllabs/minerl to commit c0c9baa03b5306ffc3acddc849ec4141b6deb98e\n",
            "  Preparing metadata (setup.py) ... \u001b[?25l\u001b[?25hdone\n",
            "Collecting gym@ git+https://github.com/minerllabs/gym@minerl-fix (from minerl==1.0.0)\n",
            "  Cloning https://github.com/minerllabs/gym (to revision minerl-fix) to /tmp/pip-install-w16g2oys/gym_68939b98a07f4f2a8537e2084d73c5e7\n",
            "  Running command git clone --filter=blob:none --quiet https://github.com/minerllabs/gym /tmp/pip-install-w16g2oys/gym_68939b98a07f4f2a8537e2084d73c5e7\n",
            "  Resolved https://github.com/minerllabs/gym to commit 1db8bb30c16704068ad63c7d8d3af0b2838ffe77\n",
            "  Preparing metadata (setup.py) ... \u001b[?25l\u001b[?25hdone\n",
            "Requirement already satisfied: opencv-python>=4.1.0.25 in /usr/local/lib/python3.10/dist-packages (from minerl==1.0.0) (4.7.0.72)\n",
            "Requirement already satisfied: setuptools>=49.2.0 in /usr/local/lib/python3.10/dist-packages (from minerl==1.0.0) (67.7.2)\n",
            "Requirement already satisfied: tqdm>=4.32.2 in /usr/local/lib/python3.10/dist-packages (from minerl==1.0.0) (4.65.0)\n",
            "Requirement already satisfied: numpy<1.24,>=1.16.2 in /usr/local/lib/python3.10/dist-packages (from minerl==1.0.0) (1.22.4)\n",
            "Requirement already satisfied: requests>=2.20.0 in /usr/local/lib/python3.10/dist-packages (from minerl==1.0.0) (2.27.1)\n",
            "Requirement already satisfied: ipython>=7.5.0 in /usr/local/lib/python3.10/dist-packages (from minerl==1.0.0) (7.34.0)\n",
            "Collecting typing>=3.6.6 (from minerl==1.0.0)\n",
            "  Downloading typing-3.7.4.3.tar.gz (78 kB)\n",
            "\u001b[2K     \u001b[90m━━━━━━━━━━━━━━━━━━━━━━━━━━━━━━━━━━━━━━━━\u001b[0m \u001b[32m78.6/78.6 kB\u001b[0m \u001b[31m1.9 MB/s\u001b[0m eta \u001b[36m0:00:00\u001b[0m\n",
            "\u001b[?25h  Preparing metadata (setup.py) ... \u001b[?25l\u001b[?25hdone\n",
            "Requirement already satisfied: lxml>=4.3.3 in /usr/local/lib/python3.10/dist-packages (from minerl==1.0.0) (4.9.3)\n",
            "Requirement already satisfied: psutil>=5.6.2 in /usr/local/lib/python3.10/dist-packages (from minerl==1.0.0) (5.9.5)\n",
            "Collecting Pyro4>=4.76 (from minerl==1.0.0)\n",
            "  Downloading Pyro4-4.82-py2.py3-none-any.whl (89 kB)\n",
            "\u001b[2K     \u001b[90m━━━━━━━━━━━━━━━━━━━━━━━━━━━━━━━━━━━━━━━━\u001b[0m \u001b[32m90.0/90.0 kB\u001b[0m \u001b[31m6.4 MB/s\u001b[0m eta \u001b[36m0:00:00\u001b[0m\n",
            "\u001b[?25hCollecting coloredlogs>=10.0 (from minerl==1.0.0)\n",
            "  Downloading coloredlogs-15.0.1-py2.py3-none-any.whl (46 kB)\n",
            "\u001b[2K     \u001b[90m━━━━━━━━━━━━━━━━━━━━━━━━━━━━━━━━━━━━━━━━\u001b[0m \u001b[32m46.0/46.0 kB\u001b[0m \u001b[31m4.7 MB/s\u001b[0m eta \u001b[36m0:00:00\u001b[0m\n",
            "\u001b[?25hRequirement already satisfied: pillow>=8.0.0 in /usr/local/lib/python3.10/dist-packages (from minerl==1.0.0) (9.4.0)\n",
            "Collecting dill>=0.3.1.1 (from minerl==1.0.0)\n",
            "  Downloading dill-0.3.7-py3-none-any.whl (115 kB)\n",
            "\u001b[2K     \u001b[90m━━━━━━━━━━━━━━━━━━━━━━━━━━━━━━━━━━━━━━━\u001b[0m \u001b[32m115.3/115.3 kB\u001b[0m \u001b[31m9.0 MB/s\u001b[0m eta \u001b[36m0:00:00\u001b[0m\n",
            "\u001b[?25hCollecting daemoniker>=0.2.3 (from minerl==1.0.0)\n",
            "  Downloading daemoniker-0.2.3-py3-none-any.whl (33 kB)\n",
            "Collecting xmltodict==0.12.0 (from minerl==1.0.0)\n",
            "  Downloading xmltodict-0.12.0-py2.py3-none-any.whl (9.2 kB)\n",
            "Collecting inflection>=0.3.1 (from minerl==1.0.0)\n",
            "  Downloading inflection-0.5.1-py2.py3-none-any.whl (9.5 kB)\n",
            "Requirement already satisfied: jinja2>=2.11.2 in /usr/local/lib/python3.10/dist-packages (from minerl==1.0.0) (3.1.2)\n",
            "Collecting imagehash>=4.0.0 (from minerl==1.0.0)\n",
            "  Downloading ImageHash-4.3.1-py2.py3-none-any.whl (296 kB)\n",
            "\u001b[2K     \u001b[90m━━━━━━━━━━━━━━━━━━━━━━━━━━━━━━━━━━━━━━━\u001b[0m \u001b[32m296.5/296.5 kB\u001b[0m \u001b[31m9.9 MB/s\u001b[0m eta \u001b[36m0:00:00\u001b[0m\n",
            "\u001b[?25hCollecting flaky (from minerl==1.0.0)\n",
            "  Downloading flaky-3.7.0-py2.py3-none-any.whl (22 kB)\n",
            "Collecting pyglet (from minerl==1.0.0)\n",
            "  Downloading pyglet-2.0.9-py3-none-any.whl (854 kB)\n",
            "\u001b[2K     \u001b[90m━━━━━━━━━━━━━━━━━━━━━━━━━━━━━━━━━━━━━━\u001b[0m \u001b[32m854.7/854.7 kB\u001b[0m \u001b[31m11.7 MB/s\u001b[0m eta \u001b[36m0:00:00\u001b[0m\n",
            "\u001b[?25hCollecting getch>=1.0 (from minerl==1.0.0)\n",
            "  Downloading getch-1.0.tar.gz (1.3 kB)\n",
            "  Preparing metadata (setup.py) ... \u001b[?25l\u001b[?25hdone\n",
            "Collecting humanfriendly>=9.1 (from coloredlogs>=10.0->minerl==1.0.0)\n",
            "  Downloading humanfriendly-10.0-py2.py3-none-any.whl (86 kB)\n",
            "\u001b[2K     \u001b[90m━━━━━━━━━━━━━━━━━━━━━━━━━━━━━━━━━━━━━━━━\u001b[0m \u001b[32m86.8/86.8 kB\u001b[0m \u001b[31m10.2 MB/s\u001b[0m eta \u001b[36m0:00:00\u001b[0m\n",
            "\u001b[?25hRequirement already satisfied: PyWavelets in /usr/local/lib/python3.10/dist-packages (from imagehash>=4.0.0->minerl==1.0.0) (1.4.1)\n",
            "Requirement already satisfied: scipy in /usr/local/lib/python3.10/dist-packages (from imagehash>=4.0.0->minerl==1.0.0) (1.10.1)\n",
            "Collecting jedi>=0.16 (from ipython>=7.5.0->minerl==1.0.0)\n",
            "  Downloading jedi-0.19.0-py2.py3-none-any.whl (1.6 MB)\n",
            "\u001b[2K     \u001b[90m━━━━━━━━━━━━━━━━━━━━━━━━━━━━━━━━━━━━━━━━\u001b[0m \u001b[32m1.6/1.6 MB\u001b[0m \u001b[31m19.7 MB/s\u001b[0m eta \u001b[36m0:00:00\u001b[0m\n",
            "\u001b[?25hRequirement already satisfied: decorator in /usr/local/lib/python3.10/dist-packages (from ipython>=7.5.0->minerl==1.0.0) (4.4.2)\n",
            "Requirement already satisfied: pickleshare in /usr/local/lib/python3.10/dist-packages (from ipython>=7.5.0->minerl==1.0.0) (0.7.5)\n",
            "Requirement already satisfied: traitlets>=4.2 in /usr/local/lib/python3.10/dist-packages (from ipython>=7.5.0->minerl==1.0.0) (5.7.1)\n",
            "Requirement already satisfied: prompt-toolkit!=3.0.0,!=3.0.1,<3.1.0,>=2.0.0 in /usr/local/lib/python3.10/dist-packages (from ipython>=7.5.0->minerl==1.0.0) (3.0.39)\n",
            "Requirement already satisfied: pygments in /usr/local/lib/python3.10/dist-packages (from ipython>=7.5.0->minerl==1.0.0) (2.14.0)\n",
            "Requirement already satisfied: backcall in /usr/local/lib/python3.10/dist-packages (from ipython>=7.5.0->minerl==1.0.0) (0.2.0)\n",
            "Requirement already satisfied: matplotlib-inline in /usr/local/lib/python3.10/dist-packages (from ipython>=7.5.0->minerl==1.0.0) (0.1.6)\n",
            "Requirement already satisfied: pexpect>4.3 in /usr/local/lib/python3.10/dist-packages (from ipython>=7.5.0->minerl==1.0.0) (4.8.0)\n",
            "Requirement already satisfied: MarkupSafe>=2.0 in /usr/local/lib/python3.10/dist-packages (from jinja2>=2.11.2->minerl==1.0.0) (2.1.3)\n",
            "Collecting serpent>=1.27 (from Pyro4>=4.76->minerl==1.0.0)\n",
            "  Downloading serpent-1.41-py3-none-any.whl (9.6 kB)\n",
            "Requirement already satisfied: urllib3<1.27,>=1.21.1 in /usr/local/lib/python3.10/dist-packages (from requests>=2.20.0->minerl==1.0.0) (1.26.16)\n",
            "Requirement already satisfied: certifi>=2017.4.17 in /usr/local/lib/python3.10/dist-packages (from requests>=2.20.0->minerl==1.0.0) (2023.7.22)\n",
            "Requirement already satisfied: charset-normalizer~=2.0.0 in /usr/local/lib/python3.10/dist-packages (from requests>=2.20.0->minerl==1.0.0) (2.0.12)\n",
            "Requirement already satisfied: idna<4,>=2.5 in /usr/local/lib/python3.10/dist-packages (from requests>=2.20.0->minerl==1.0.0) (3.4)\n",
            "Collecting cloudpickle<1.7.0,>=1.2.0 (from gym@ git+https://github.com/minerllabs/gym@minerl-fix->minerl==1.0.0)\n",
            "  Downloading cloudpickle-1.6.0-py3-none-any.whl (23 kB)\n",
            "Requirement already satisfied: parso<0.9.0,>=0.8.3 in /usr/local/lib/python3.10/dist-packages (from jedi>=0.16->ipython>=7.5.0->minerl==1.0.0) (0.8.3)\n",
            "Requirement already satisfied: ptyprocess>=0.5 in /usr/local/lib/python3.10/dist-packages (from pexpect>4.3->ipython>=7.5.0->minerl==1.0.0) (0.7.0)\n",
            "Requirement already satisfied: wcwidth in /usr/local/lib/python3.10/dist-packages (from prompt-toolkit!=3.0.0,!=3.0.1,<3.1.0,>=2.0.0->ipython>=7.5.0->minerl==1.0.0) (0.2.6)\n",
            "Building wheels for collected packages: minerl, getch, typing, gym\n",
            "  Building wheel for minerl (setup.py) ... \u001b[?25l\u001b[?25hdone\n",
            "  Created wheel for minerl: filename=minerl-1.0.0-cp310-cp310-linux_x86_64.whl size=1341631856 sha256=4b538d87073f7e799d0c17ebd823c2e418f3237adbc21e443eaccfb5b195c7d8\n",
            "  Stored in directory: /tmp/pip-ephem-wheel-cache-goxc0hk8/wheels/68/84/3b/2e10aaabb68255450a40a88f79cdda9587f0669bca51383940\n",
            "  Building wheel for getch (setup.py) ... \u001b[?25l\u001b[?25hdone\n",
            "  Created wheel for getch: filename=getch-1.0-cp310-cp310-linux_x86_64.whl size=9752 sha256=09dfc345f05a2493ac9147ccbc9e1cdc3962a5d9ddb7f7fe125676c905a21497\n",
            "  Stored in directory: /root/.cache/pip/wheels/ac/c4/98/3509ed1eea91cd925ecf8601b085d8faf13c9d5269653f4325\n",
            "  Building wheel for typing (setup.py) ... \u001b[?25l\u001b[?25hdone\n",
            "  Created wheel for typing: filename=typing-3.7.4.3-py3-none-any.whl size=26305 sha256=0dddd87c00fc4f52ca2b5fedc7c1be14ff733e2d2856ed2be21564c92a7a6e43\n",
            "  Stored in directory: /root/.cache/pip/wheels/7c/d0/9e/1f26ebb66d9e1732e4098bc5a6c2d91f6c9a529838f0284890\n",
            "  Building wheel for gym (setup.py) ... \u001b[?25l\u001b[?25hdone\n",
            "  Created wheel for gym: filename=gym-0.19.0-py3-none-any.whl size=1663948 sha256=559452dd7c3b876ebe84f9f40a51647844e46ce87aaacb6f4729e5678f54416a\n",
            "  Stored in directory: /tmp/pip-ephem-wheel-cache-goxc0hk8/wheels/e2/c4/8e/ecfbcfad0c7a3a66b4d45ad25f67d21dbc7de9bbd2a0684da2\n",
            "Successfully built minerl getch typing gym\n",
            "Installing collected packages: pyglet, getch, daemoniker, xmltodict, typing, serpent, jedi, inflection, humanfriendly, flaky, dill, cloudpickle, Pyro4, imagehash, gym, coloredlogs, minerl\n",
            "  Attempting uninstall: cloudpickle\n",
            "    Found existing installation: cloudpickle 2.2.1\n",
            "    Uninstalling cloudpickle-2.2.1:\n",
            "      Successfully uninstalled cloudpickle-2.2.1\n",
            "  Attempting uninstall: gym\n",
            "    Found existing installation: gym 0.25.2\n",
            "    Uninstalling gym-0.25.2:\n",
            "      Successfully uninstalled gym-0.25.2\n",
            "Successfully installed Pyro4-4.82 cloudpickle-1.6.0 coloredlogs-15.0.1 daemoniker-0.2.3 dill-0.3.7 flaky-3.7.0 getch-1.0 gym-0.19.0 humanfriendly-10.0 imagehash-4.3.1 inflection-0.5.1 jedi-0.19.0 minerl-1.0.0 pyglet-2.0.9 serpent-1.41 typing-3.7.4.3 xmltodict-0.12.0\n"
          ]
        },
        {
          "output_type": "display_data",
          "data": {
            "application/vnd.colab-display-data+json": {
              "pip_warning": {
                "packages": [
                  "typing"
                ]
              }
            }
          },
          "metadata": {}
        }
      ]
    },
    {
      "cell_type": "markdown",
      "source": [
        "#Install MineRL 0.4.4"
      ],
      "metadata": {
        "id": "B92RS7Yih3VJ"
      }
    },
    {
      "cell_type": "code",
      "source": [
        "%%capture\n",
        "!sudo add-apt-repository -y ppa:openjdk-r/ppa\n",
        "!sudo apt-get purge openjdk-*\n",
        "!sudo apt-get install openjdk-8-jdk\n",
        "!sudo apt-get install xvfb\n",
        "!sudo apt-get install xserver-xephyr\n",
        "!sudo apt-get install vnc4server\n",
        "!sudo apt-get install python-opengl\n",
        "!sudo apt-get install ffmpeg"
      ],
      "metadata": {
        "id": "D3hyCj68h6YO"
      },
      "execution_count": null,
      "outputs": []
    },
    {
      "cell_type": "code",
      "source": [
        "%%capture\n",
        "!pip3 install pyvirtualdisplay\n",
        "!pip3 install -U colabgymrender\n",
        "!pip3 install imageio==2.4.1"
      ],
      "metadata": {
        "id": "2MVFZdIDh7bB"
      },
      "execution_count": null,
      "outputs": []
    },
    {
      "cell_type": "code",
      "source": [
        "%%capture\n",
        "!python -m pip install --upgrade pip wheel==0.38.4 setuptools==65.6.1"
      ],
      "metadata": {
        "id": "i-RGaHAGh8mm"
      },
      "execution_count": null,
      "outputs": []
    },
    {
      "cell_type": "code",
      "source": [
        "!pip3 install minerl==0.4.4"
      ],
      "metadata": {
        "colab": {
          "base_uri": "https://localhost:8080/"
        },
        "id": "9QFpHC4_h_WK",
        "outputId": "22a98899-2dde-436a-f31f-86cab287cc0e"
      },
      "execution_count": null,
      "outputs": [
        {
          "output_type": "stream",
          "name": "stdout",
          "text": [
            "Collecting minerl==0.4.4\n",
            "  Downloading minerl-0.4.4.tar.gz (70.1 MB)\n",
            "\u001b[2K     \u001b[90m━━━━━━━━━━━━━━━━━━━━━━━━━━━━━━━━━━━━━━━━\u001b[0m \u001b[32m70.1/70.1 MB\u001b[0m \u001b[31m10.3 MB/s\u001b[0m eta \u001b[36m0:00:00\u001b[0m\n",
            "\u001b[?25h  Preparing metadata (setup.py) ... \u001b[?25l\u001b[?25hdone\n",
            "Collecting gym<0.20,>=0.13.1 (from minerl==0.4.4)\n",
            "  Downloading gym-0.19.0.tar.gz (1.6 MB)\n",
            "\u001b[2K     \u001b[90m━━━━━━━━━━━━━━━━━━━━━━━━━━━━━━━━━━━━━━━━\u001b[0m \u001b[32m1.6/1.6 MB\u001b[0m \u001b[31m60.7 MB/s\u001b[0m eta \u001b[36m0:00:00\u001b[0m\n",
            "\u001b[?25h  Preparing metadata (setup.py) ... \u001b[?25l\u001b[?25hdone\n",
            "Requirement already satisfied: opencv-python>=4.1.0.25 in /usr/local/lib/python3.10/dist-packages (from minerl==0.4.4) (4.7.0.72)\n",
            "Requirement already satisfied: setuptools>=49.2.0 in /usr/local/lib/python3.10/dist-packages (from minerl==0.4.4) (65.6.1)\n",
            "Requirement already satisfied: tqdm>=4.32.2 in /usr/local/lib/python3.10/dist-packages (from minerl==0.4.4) (4.65.0)\n",
            "Requirement already satisfied: numpy>=1.16.2 in /usr/local/lib/python3.10/dist-packages (from minerl==0.4.4) (1.22.4)\n",
            "Requirement already satisfied: requests>=2.20.0 in /usr/local/lib/python3.10/dist-packages (from minerl==0.4.4) (2.27.1)\n",
            "Requirement already satisfied: ipython>=7.5.0 in /usr/local/lib/python3.10/dist-packages (from minerl==0.4.4) (7.34.0)\n",
            "Requirement already satisfied: lxml>=4.3.3 in /usr/local/lib/python3.10/dist-packages (from minerl==0.4.4) (4.9.3)\n",
            "Requirement already satisfied: psutil>=5.6.2 in /usr/local/lib/python3.10/dist-packages (from minerl==0.4.4) (5.9.5)\n",
            "Collecting Pyro4>=4.76 (from minerl==0.4.4)\n",
            "  Downloading Pyro4-4.82-py2.py3-none-any.whl (89 kB)\n",
            "\u001b[2K     \u001b[90m━━━━━━━━━━━━━━━━━━━━━━━━━━━━━━━━━━━━━━━━\u001b[0m \u001b[32m90.0/90.0 kB\u001b[0m \u001b[31m9.3 MB/s\u001b[0m eta \u001b[36m0:00:00\u001b[0m\n",
            "\u001b[?25hCollecting coloredlogs>=10.0 (from minerl==0.4.4)\n",
            "  Downloading coloredlogs-15.0.1-py2.py3-none-any.whl (46 kB)\n",
            "\u001b[2K     \u001b[90m━━━━━━━━━━━━━━━━━━━━━━━━━━━━━━━━━━━━━━━━\u001b[0m \u001b[32m46.0/46.0 kB\u001b[0m \u001b[31m5.9 MB/s\u001b[0m eta \u001b[36m0:00:00\u001b[0m\n",
            "\u001b[?25hRequirement already satisfied: pillow>=8.0.0 in /usr/local/lib/python3.10/dist-packages (from minerl==0.4.4) (9.4.0)\n",
            "Requirement already satisfied: matplotlib>=3.2.2 in /usr/local/lib/python3.10/dist-packages (from minerl==0.4.4) (3.7.1)\n",
            "Collecting dill>=0.3.1.1 (from minerl==0.4.4)\n",
            "  Obtaining dependency information for dill>=0.3.1.1 from https://files.pythonhosted.org/packages/f5/3a/74a29b11cf2cdfcd6ba89c0cecd70b37cd1ba7b77978ce611eb7a146a832/dill-0.3.7-py3-none-any.whl.metadata\n",
            "  Downloading dill-0.3.7-py3-none-any.whl.metadata (9.9 kB)\n",
            "Collecting daemoniker>=0.2.3 (from minerl==0.4.4)\n",
            "  Downloading daemoniker-0.2.3-py3-none-any.whl (33 kB)\n",
            "Collecting xmltodict==0.12.0 (from minerl==0.4.4)\n",
            "  Downloading xmltodict-0.12.0-py2.py3-none-any.whl (9.2 kB)\n",
            "Collecting inflection>=0.3.1 (from minerl==0.4.4)\n",
            "  Downloading inflection-0.5.1-py2.py3-none-any.whl (9.5 kB)\n",
            "Requirement already satisfied: jinja2>=2.11.2 in /usr/local/lib/python3.10/dist-packages (from minerl==0.4.4) (3.1.2)\n",
            "Collecting simple-term-menu (from minerl==0.4.4)\n",
            "  Downloading simple_term_menu-1.6.1-py3-none-any.whl (27 kB)\n",
            "Collecting bullet (from minerl==0.4.4)\n",
            "  Downloading bullet-2.2.0-py3-none-any.whl (10 kB)\n",
            "Requirement already satisfied: filelock in /usr/local/lib/python3.10/dist-packages (from minerl==0.4.4) (3.12.2)\n",
            "Requirement already satisfied: pytest in /usr/local/lib/python3.10/dist-packages (from minerl==0.4.4) (7.2.2)\n",
            "Collecting getch>=1.0 (from minerl==0.4.4)\n",
            "  Downloading getch-1.0.tar.gz (1.3 kB)\n",
            "  Preparing metadata (setup.py) ... \u001b[?25l\u001b[?25hdone\n",
            "Collecting humanfriendly>=9.1 (from coloredlogs>=10.0->minerl==0.4.4)\n",
            "  Downloading humanfriendly-10.0-py2.py3-none-any.whl (86 kB)\n",
            "\u001b[2K     \u001b[90m━━━━━━━━━━━━━━━━━━━━━━━━━━━━━━━━━━━━━━━━\u001b[0m \u001b[32m86.8/86.8 kB\u001b[0m \u001b[31m10.6 MB/s\u001b[0m eta \u001b[36m0:00:00\u001b[0m\n",
            "\u001b[?25hCollecting cloudpickle<1.7.0,>=1.2.0 (from gym<0.20,>=0.13.1->minerl==0.4.4)\n",
            "  Downloading cloudpickle-1.6.0-py3-none-any.whl (23 kB)\n",
            "Collecting jedi>=0.16 (from ipython>=7.5.0->minerl==0.4.4)\n",
            "  Obtaining dependency information for jedi>=0.16 from https://files.pythonhosted.org/packages/8e/46/7e3ae3aa2dcfcffc5138c6cef5448523218658411c84a2000bf75c8d3ec1/jedi-0.19.0-py2.py3-none-any.whl.metadata\n",
            "  Downloading jedi-0.19.0-py2.py3-none-any.whl.metadata (22 kB)\n",
            "Requirement already satisfied: decorator in /usr/local/lib/python3.10/dist-packages (from ipython>=7.5.0->minerl==0.4.4) (4.4.2)\n",
            "Requirement already satisfied: pickleshare in /usr/local/lib/python3.10/dist-packages (from ipython>=7.5.0->minerl==0.4.4) (0.7.5)\n",
            "Requirement already satisfied: traitlets>=4.2 in /usr/local/lib/python3.10/dist-packages (from ipython>=7.5.0->minerl==0.4.4) (5.7.1)\n",
            "Requirement already satisfied: prompt-toolkit!=3.0.0,!=3.0.1,<3.1.0,>=2.0.0 in /usr/local/lib/python3.10/dist-packages (from ipython>=7.5.0->minerl==0.4.4) (3.0.39)\n",
            "Requirement already satisfied: pygments in /usr/local/lib/python3.10/dist-packages (from ipython>=7.5.0->minerl==0.4.4) (2.14.0)\n",
            "Requirement already satisfied: backcall in /usr/local/lib/python3.10/dist-packages (from ipython>=7.5.0->minerl==0.4.4) (0.2.0)\n",
            "Requirement already satisfied: matplotlib-inline in /usr/local/lib/python3.10/dist-packages (from ipython>=7.5.0->minerl==0.4.4) (0.1.6)\n",
            "Requirement already satisfied: pexpect>4.3 in /usr/local/lib/python3.10/dist-packages (from ipython>=7.5.0->minerl==0.4.4) (4.8.0)\n",
            "Requirement already satisfied: MarkupSafe>=2.0 in /usr/local/lib/python3.10/dist-packages (from jinja2>=2.11.2->minerl==0.4.4) (2.1.3)\n",
            "Requirement already satisfied: contourpy>=1.0.1 in /usr/local/lib/python3.10/dist-packages (from matplotlib>=3.2.2->minerl==0.4.4) (1.1.0)\n",
            "Requirement already satisfied: cycler>=0.10 in /usr/local/lib/python3.10/dist-packages (from matplotlib>=3.2.2->minerl==0.4.4) (0.11.0)\n",
            "Requirement already satisfied: fonttools>=4.22.0 in /usr/local/lib/python3.10/dist-packages (from matplotlib>=3.2.2->minerl==0.4.4) (4.41.1)\n",
            "Requirement already satisfied: kiwisolver>=1.0.1 in /usr/local/lib/python3.10/dist-packages (from matplotlib>=3.2.2->minerl==0.4.4) (1.4.4)\n",
            "Requirement already satisfied: packaging>=20.0 in /usr/local/lib/python3.10/dist-packages (from matplotlib>=3.2.2->minerl==0.4.4) (23.1)\n",
            "Requirement already satisfied: pyparsing>=2.3.1 in /usr/local/lib/python3.10/dist-packages (from matplotlib>=3.2.2->minerl==0.4.4) (3.1.0)\n",
            "Requirement already satisfied: python-dateutil>=2.7 in /usr/local/lib/python3.10/dist-packages (from matplotlib>=3.2.2->minerl==0.4.4) (2.8.2)\n",
            "Collecting serpent>=1.27 (from Pyro4>=4.76->minerl==0.4.4)\n",
            "  Downloading serpent-1.41-py3-none-any.whl (9.6 kB)\n",
            "Requirement already satisfied: urllib3<1.27,>=1.21.1 in /usr/local/lib/python3.10/dist-packages (from requests>=2.20.0->minerl==0.4.4) (1.26.16)\n",
            "Requirement already satisfied: certifi>=2017.4.17 in /usr/local/lib/python3.10/dist-packages (from requests>=2.20.0->minerl==0.4.4) (2023.7.22)\n",
            "Requirement already satisfied: charset-normalizer~=2.0.0 in /usr/local/lib/python3.10/dist-packages (from requests>=2.20.0->minerl==0.4.4) (2.0.12)\n",
            "Requirement already satisfied: idna<4,>=2.5 in /usr/local/lib/python3.10/dist-packages (from requests>=2.20.0->minerl==0.4.4) (3.4)\n",
            "Requirement already satisfied: attrs>=19.2.0 in /usr/local/lib/python3.10/dist-packages (from pytest->minerl==0.4.4) (23.1.0)\n",
            "Requirement already satisfied: iniconfig in /usr/local/lib/python3.10/dist-packages (from pytest->minerl==0.4.4) (2.0.0)\n",
            "Requirement already satisfied: pluggy<2.0,>=0.12 in /usr/local/lib/python3.10/dist-packages (from pytest->minerl==0.4.4) (1.2.0)\n",
            "Requirement already satisfied: exceptiongroup>=1.0.0rc8 in /usr/local/lib/python3.10/dist-packages (from pytest->minerl==0.4.4) (1.1.2)\n",
            "Requirement already satisfied: tomli>=1.0.0 in /usr/local/lib/python3.10/dist-packages (from pytest->minerl==0.4.4) (2.0.1)\n",
            "Requirement already satisfied: parso<0.9.0,>=0.8.3 in /usr/local/lib/python3.10/dist-packages (from jedi>=0.16->ipython>=7.5.0->minerl==0.4.4) (0.8.3)\n",
            "Requirement already satisfied: ptyprocess>=0.5 in /usr/local/lib/python3.10/dist-packages (from pexpect>4.3->ipython>=7.5.0->minerl==0.4.4) (0.7.0)\n",
            "Requirement already satisfied: wcwidth in /usr/local/lib/python3.10/dist-packages (from prompt-toolkit!=3.0.0,!=3.0.1,<3.1.0,>=2.0.0->ipython>=7.5.0->minerl==0.4.4) (0.2.6)\n",
            "Requirement already satisfied: six>=1.5 in /usr/local/lib/python3.10/dist-packages (from python-dateutil>=2.7->matplotlib>=3.2.2->minerl==0.4.4) (1.16.0)\n",
            "Downloading dill-0.3.7-py3-none-any.whl (115 kB)\n",
            "\u001b[2K   \u001b[90m━━━━━━━━━━━━━━━━━━━━━━━━━━━━━━━━━━━━━━━━\u001b[0m \u001b[32m115.3/115.3 kB\u001b[0m \u001b[31m13.9 MB/s\u001b[0m eta \u001b[36m0:00:00\u001b[0m\n",
            "\u001b[?25hDownloading jedi-0.19.0-py2.py3-none-any.whl (1.6 MB)\n",
            "\u001b[2K   \u001b[90m━━━━━━━━━━━━━━━━━━━━━━━━━━━━━━━━━━━━━━━━\u001b[0m \u001b[32m1.6/1.6 MB\u001b[0m \u001b[31m77.8 MB/s\u001b[0m eta \u001b[36m0:00:00\u001b[0m\n",
            "\u001b[?25hBuilding wheels for collected packages: minerl, getch, gym\n",
            "  Building wheel for minerl (setup.py) ... \u001b[?25l\u001b[?25hdone\n",
            "  Created wheel for minerl: filename=minerl-0.4.4-cp310-cp310-linux_x86_64.whl size=563795328 sha256=4c8c445e7f05c30ee6e818626aff08410da4db75d69aa8aae2a1bc7163aa9ae1\n",
            "  Stored in directory: /root/.cache/pip/wheels/a0/32/76/19dd13009f63dc3928e45c931847d499a43fe6ae3ec9bd0010\n",
            "  Building wheel for getch (setup.py) ... \u001b[?25l\u001b[?25hdone\n",
            "  Created wheel for getch: filename=getch-1.0-cp310-cp310-linux_x86_64.whl size=9757 sha256=96dcbebf1aedcade01fc598294d083679ae45ca2b0cc883d6e0836ccad5386c5\n",
            "  Stored in directory: /root/.cache/pip/wheels/ac/c4/98/3509ed1eea91cd925ecf8601b085d8faf13c9d5269653f4325\n",
            "  Building wheel for gym (setup.py) ... \u001b[?25l\u001b[?25hdone\n",
            "  Created wheel for gym: filename=gym-0.19.0-py3-none-any.whl size=1663089 sha256=8555689ea3192b21d5077110f7ee97da450d1ac80d970656197fe5e569f3120f\n",
            "  Stored in directory: /root/.cache/pip/wheels/c8/24/9d/db9869e09d1fbf12a10ce64362d9f161f09bdb5651e44317fe\n",
            "Successfully built minerl getch gym\n",
            "Installing collected packages: getch, daemoniker, bullet, xmltodict, simple-term-menu, serpent, jedi, inflection, humanfriendly, dill, cloudpickle, Pyro4, gym, coloredlogs, minerl\n",
            "  Attempting uninstall: cloudpickle\n",
            "    Found existing installation: cloudpickle 2.2.1\n",
            "    Uninstalling cloudpickle-2.2.1:\n",
            "      Successfully uninstalled cloudpickle-2.2.1\n",
            "  Attempting uninstall: gym\n",
            "    Found existing installation: gym 0.25.2\n",
            "    Uninstalling gym-0.25.2:\n",
            "      Successfully uninstalled gym-0.25.2\n",
            "Successfully installed Pyro4-4.82 bullet-2.2.0 cloudpickle-1.6.0 coloredlogs-15.0.1 daemoniker-0.2.3 dill-0.3.7 getch-1.0 gym-0.19.0 humanfriendly-10.0 inflection-0.5.1 jedi-0.19.0 minerl-0.4.4 serpent-1.41 simple-term-menu-1.6.1 xmltodict-0.12.0\n",
            "\u001b[33mWARNING: Running pip as the 'root' user can result in broken permissions and conflicting behaviour with the system package manager. It is recommended to use a virtual environment instead: https://pip.pypa.io/warnings/venv\u001b[0m\u001b[33m\n",
            "\u001b[0m"
          ]
        }
      ]
    },
    {
      "cell_type": "markdown",
      "source": [
        "#Import"
      ],
      "metadata": {
        "id": "_wEBEhzsb_9q"
      }
    },
    {
      "cell_type": "code",
      "source": [
        "import os\n",
        "\n",
        "import numpy as np\n",
        "\n",
        "import gym\n",
        "#from gym.wrappers import Monitor\n",
        "import minerl\n",
        "\n",
        "import matplotlib\n",
        "import matplotlib.pyplot as plt\n",
        "#%matplotlib inline\n",
        "\n",
        "from tqdm.notebook import tqdm\n",
        "from colabgymrender.recorder import Recorder\n",
        "from pyvirtualdisplay import Display\n",
        "\n",
        "import logging\n",
        "logging.disable(logging.ERROR) # reduce clutter, remove if something doesn't work to see the error logs.\n",
        "\n",
        "import cv2\n",
        "import glob\n",
        "import io\n",
        "import base64\n",
        "from IPython.display import HTML\n",
        "\n",
        "from IPython import display as ipythondisplay\n",
        "\n",
        "np.__version__  # '1.21.6' => that this is reading from our ~/mine_env directory"
      ],
      "metadata": {
        "colab": {
          "base_uri": "https://localhost:8080/",
          "height": 36
        },
        "id": "HJe2LbQgcDT3",
        "outputId": "e7cc788c-8009-487a-ec11-6972280201c3"
      },
      "execution_count": null,
      "outputs": [
        {
          "output_type": "execute_result",
          "data": {
            "text/plain": [
              "'1.22.4'"
            ],
            "application/vnd.google.colaboratory.intrinsic+json": {
              "type": "string"
            }
          },
          "metadata": {},
          "execution_count": 1
        }
      ]
    },
    {
      "cell_type": "code",
      "source": [
        "disp = Display(visible=0, backend=\"xvfb\")\n",
        "disp.start();"
      ],
      "metadata": {
        "id": "6ET9UDIEcE3c"
      },
      "execution_count": null,
      "outputs": []
    },
    {
      "cell_type": "markdown",
      "source": [
        "#Scenario"
      ],
      "metadata": {
        "id": "Fg7o-TvicHHL"
      }
    },
    {
      "cell_type": "code",
      "source": [
        "from minerl.herobraine.env_specs.human_controls import SimpleHumanEmbodimentEnvSpec\n",
        "from minerl.herobraine.hero.mc import MS_PER_STEP, STEPS_PER_MS\n",
        "from minerl.herobraine.hero.handler import Handler\n",
        "from typing import List\n",
        "\n",
        "import minerl.herobraine\n",
        "import minerl.herobraine.hero.handlers as handlers\n",
        "from minerl.herobraine.env_spec import EnvSpec\n",
        "from minerl.herobraine.hero.mc import MS_PER_STEP, STEPS_PER_MS, ALL_ITEMS\n",
        "from minerl.herobraine.hero import handlers as H, mc\n",
        "from minerl.herobraine.hero.handlers.translation import TranslationHandler\n",
        "\n",
        "MY_TREECHOP_DOC = \"\"\"\n",
        "In treechop, the agent must collect 64 `minercaft:log`. This replicates a common scenario in Minecraft, as logs are necessary to craft a large amount of items in the game, and are a key resource in Minecraft.\n",
        "\n",
        "The agent begins in a forest biome (near many trees) with an iron axe for cutting trees. The agent is given +1 reward for obtaining each unit of wood, and the episode terminates once the agent obtains 64 units.\n",
        "\"\"\"\n",
        "TREECHOP_LENGTH = 8000\n",
        "TREECHOP_WORLD_GENERATOR_OPTIONS = \"\"\"{\"coordinateScale\":684.412,\"heightScale\":684.412,\"lowerLimitScale\":512.0,\"upperLimitScale\":512.0,\"depthNoiseScaleX\":200.0,\"depthNoiseScaleZ\":200.0,\"depthNoiseScaleExponent\":0.5,\"mainNoiseScaleX\":80.0,\"mainNoiseScaleY\":160.0,\"mainNoiseScaleZ\":80.0,\"baseSize\":8.5,\"stretchY\":12.0,\"biomeDepthWeight\":1.0,\"biomeDepthOffset\":0.0,\"biomeScaleWeight\":1.0,\"biomeScaleOffset\":0.0,\"seaLevel\":1,\"useCaves\":false,\"useDungeons\":false,\"dungeonChance\":8,\"useStrongholds\":false,\"useVillages\":false,\"useMineShafts\":false,\"useTemples\":false,\"useMonuments\":false,\"useMansions\":false,\"useRavines\":false,\"useWaterLakes\":false,\"waterLakeChance\":4,\"useLavaLakes\":false,\"lavaLakeChance\":80,\"useLavaOceans\":false,\"fixedBiome\":4,\"biomeSize\":4,\"riverSize\":1,\"dirtSize\":33,\"dirtCount\":10,\"dirtMinHeight\":0,\"dirtMaxHeight\":256,\"gravelSize\":33,\"gravelCount\":8,\"gravelMinHeight\":0,\"gravelMaxHeight\":256,\"graniteSize\":33,\"graniteCount\":10,\"graniteMinHeight\":0,\"graniteMaxHeight\":80,\"dioriteSize\":33,\"dioriteCount\":10,\"dioriteMinHeight\":0,\"dioriteMaxHeight\":80,\"andesiteSize\":33,\"andesiteCount\":10,\"andesiteMinHeight\":0,\"andesiteMaxHeight\":80,\"coalSize\":17,\"coalCount\":20,\"coalMinHeight\":0,\"coalMaxHeight\":128,\"ironSize\":9,\"ironCount\":20,\"ironMinHeight\":0,\"ironMaxHeight\":64,\"goldSize\":9,\"goldCount\":2,\"goldMinHeight\":0,\"goldMaxHeight\":32,\"redstoneSize\":8,\"redstoneCount\":8,\"redstoneMinHeight\":0,\"redstoneMaxHeight\":16,\"diamondSize\":8,\"diamondCount\":1,\"diamondMinHeight\":0,\"diamondMaxHeight\":16,\"lapisSize\":7,\"lapisCount\":1,\"lapisCenterHeight\":16,\"lapisSpread\":16}\"\"\"\n",
        "\n",
        "\n",
        "class MyTreechop(SimpleHumanEmbodimentEnvSpec):\n",
        "    def __init__(self, *args, **kwargs):\n",
        "        if 'name' not in kwargs:\n",
        "            kwargs['name'] = 'MyMineRLTreechop-v0'\n",
        "\n",
        "        super().__init__(*args,\n",
        "                         max_episode_steps=TREECHOP_LENGTH, reward_threshold=64.0,resolution=[640, 360],\n",
        "                         **kwargs)\n",
        "\n",
        "    def create_observables(self) -> List[Handler]:\n",
        "        return super().create_observables() + [\n",
        "            handlers.EquippedItemObservation(\n",
        "                items=ALL_ITEMS,\n",
        "                mainhand=True,\n",
        "                offhand=True,\n",
        "                armor=True,\n",
        "                _default=\"air\",\n",
        "                _other=\"air\",\n",
        "            ),\n",
        "            handlers.ObservationFromLifeStats(),\n",
        "            handlers.ObservationFromCurrentLocation(),\n",
        "            handlers.ObserveFromFullStats(\"use_item\"),\n",
        "            handlers.ObserveFromFullStats(\"drop\"),\n",
        "            handlers.ObserveFromFullStats(\"pickup\"),\n",
        "            handlers.ObserveFromFullStats(\"break_item\"),\n",
        "            handlers.ObserveFromFullStats(\"craft_item\"),\n",
        "            handlers.ObserveFromFullStats(\"mine_block\"),\n",
        "            handlers.ObserveFromFullStats(\"damage_dealt\"),\n",
        "            handlers.ObserveFromFullStats(\"entity_killed_by\"),\n",
        "            handlers.ObserveFromFullStats(\"kill_entity\"),\n",
        "            # handlers.ObserveFromFullStats(None),\n",
        "        ]\n",
        "\n",
        "    def create_actionables(self) -> List[TranslationHandler]:\n",
        "        \"\"\"\n",
        "        Simple envs have some basic keyboard control functionality, but\n",
        "        not all.\n",
        "        \"\"\"\n",
        "        return [\n",
        "           H.KeybasedCommandAction(v, v) for v in mc.KEYMAP.values()\n",
        "        ] + [H.CameraAction()]\n",
        "\n",
        "    def create_rewardables(self) -> List[Handler]:\n",
        "        return [\n",
        "            handlers.RewardForCollectingItems([\n",
        "                dict(type=\"log\", amount=1, reward=1.0),\n",
        "            ])\n",
        "        ]\n",
        "\n",
        "    def create_agent_start(self) -> List[Handler]:\n",
        "        return super().create_agent_start() + [\n",
        "            handlers.SimpleInventoryAgentStart([\n",
        "                dict(type=\"oak_log\", quantity=30)\n",
        "            ])\n",
        "        ]\n",
        "\n",
        "    def create_agent_handlers(self) -> List[Handler]:\n",
        "        return [\n",
        "            handlers.AgentQuitFromPossessingItem([\n",
        "                dict(type=\"log\", amount=64)]\n",
        "            )\n",
        "        ]\n",
        "\n",
        "    def create_server_world_generators(self) -> List[Handler]:\n",
        "        return [\n",
        "            handlers.DefaultWorldGenerator(force_reset=\"true\",\n",
        "                                           generator_options=TREECHOP_WORLD_GENERATOR_OPTIONS\n",
        "                                           )\n",
        "        ]\n",
        "\n",
        "    def create_server_quit_producers(self) -> List[Handler]:\n",
        "        return [\n",
        "            handlers.ServerQuitFromTimeUp(\n",
        "                (TREECHOP_LENGTH * MS_PER_STEP)),\n",
        "            handlers.ServerQuitWhenAnyAgentFinishes()\n",
        "        ]\n",
        "\n",
        "    def create_server_decorators(self) -> List[Handler]:\n",
        "        return []\n",
        "\n",
        "    def create_server_initial_conditions(self) -> List[Handler]:\n",
        "        return [\n",
        "            handlers.TimeInitialCondition(\n",
        "                allow_passage_of_time=False\n",
        "            ),\n",
        "            handlers.SpawningInitialCondition(\n",
        "                allow_spawning=True\n",
        "            )\n",
        "        ]\n",
        "\n",
        "    def determine_success_from_rewards(self, rewards: list) -> bool:\n",
        "        return sum(rewards) >= self.reward_threshold\n",
        "\n",
        "    def is_from_folder(self, folder: str) -> bool:\n",
        "        return folder == 'survivaltreechop'\n",
        "\n",
        "    def get_docstring(self):\n",
        "        return MY_TREECHOP_DOC"
      ],
      "metadata": {
        "id": "rQbh5t9PcMle"
      },
      "execution_count": null,
      "outputs": []
    },
    {
      "cell_type": "code",
      "source": [
        "import gym\n",
        "\n",
        "from minerl.herobraine.env_spec import EnvSpec\n",
        "\n",
        "#MINERL_MY_TEST_V0 = MyTestlEnvSpec_2()\n",
        "MINERL_MY_TREECHOP_V0 = MyTreechop()\n",
        "\n",
        "# Register the envs.\n",
        "ENVS = [env for env in locals().values() if isinstance(env, EnvSpec)]\n",
        "for env in ENVS:\n",
        "    if env.name not in gym.envs.registry.env_specs:\n",
        "        env.register()"
      ],
      "metadata": {
        "id": "s_2yrn-poqpI"
      },
      "execution_count": null,
      "outputs": []
    },
    {
      "cell_type": "code",
      "source": [
        "# env = gym.make('MyMineRLTreechop-v0')\n",
        "# env.seed(10)\n",
        "# obs = env.reset()\n",
        "# plt.imshow(obs['pov'])"
      ],
      "metadata": {
        "id": "cMyGL5-1pIo1"
      },
      "execution_count": null,
      "outputs": []
    },
    {
      "cell_type": "markdown",
      "source": [
        "#Network"
      ],
      "metadata": {
        "id": "n88eDEw_cRLX"
      }
    },
    {
      "cell_type": "code",
      "source": [
        "import torch\n",
        "import torch.nn as nn\n",
        "import torch\n",
        "import torch.nn as nn\n",
        "import torch.optim as optim\n",
        "import torch.nn.functional as F\n",
        "\n",
        "device = torch.device(\"cuda\" if torch.cuda.is_available() else \"cpu\")\n",
        "\n",
        "class Cnn(nn.Module):\n",
        "    def __init__(self, input_shape=(3, 64, 64)):\n",
        "        super().__init__()\n",
        "        n_input_channels = input_shape[0]\n",
        "        self.cnn = nn.Sequential(\n",
        "            nn.Conv2d(n_input_channels, 32, kernel_size=8, stride=4),\n",
        "            nn.BatchNorm2d(32),\n",
        "            nn.ReLU(),\n",
        "            nn.Conv2d(32, 64, kernel_size=4, stride=2),\n",
        "            nn.BatchNorm2d(64),\n",
        "            nn.ReLU(),\n",
        "            nn.Conv2d(64, 64, kernel_size=3, stride=1),\n",
        "            nn.BatchNorm2d(64),\n",
        "            nn.ReLU(),\n",
        "            nn.Flatten(),\n",
        "            nn.Linear(1024, 1024),\n",
        "            nn.ReLU(),\n",
        "            nn.Linear(1024, 1024),\n",
        "            nn.ReLU(),\n",
        "            nn.Linear(1024, 512),\n",
        "            nn.ReLU(),\n",
        "        )\n",
        "\n",
        "        self.flat_size = 1024\n",
        "        self.camera = nn.Linear(512, 5)\n",
        "        self.buttons = nn.Linear(512, 6)\n",
        "\n",
        "    def forward(self, observations):\n",
        "        cnn_output = self.cnn(observations)\n",
        "\n",
        "        camera_output = self.camera(cnn_output)\n",
        "        buttons_ouput = self.buttons(cnn_output)\n",
        "\n",
        "        return camera_output, buttons_ouput\n",
        "\n",
        "    def initial_hidden_state(self):\n",
        "        h0 = torch.zeros(2, 1, 512).to(device)\n",
        "        c0 = torch.zeros(2, 1, 512).to(device)\n",
        "        hidden = (h0, c0)\n",
        "        return hidden\n",
        "\n",
        "    def preprocess(self, img, img_size=(64, 64)):\n",
        "        pov = cv2.resize(img, img_size).astype(np.float32)\n",
        "        state = pov.transpose(2, 0, 1) / 255.0\n",
        "        state = torch.tensor(state, dtype=torch.float32, device=device).unsqueeze(0)\n",
        "\n",
        "        return state\n",
        "\n",
        "    def get_result(self, camera_logits, button_logits, t=1.2):\n",
        "        camera_probabilities = torch.softmax(camera_logits/t, dim=1)[0].detach().cpu().numpy()\n",
        "        button_probabilities = torch.softmax(button_logits/t, dim=1)[0].detach().cpu().numpy()\n",
        "\n",
        "        camera_action = np.random.choice(5, p=camera_probabilities)\n",
        "        button_action = np.random.choice(6, p=camera_probabilities)\n",
        "\n",
        "        return camera_action, button_action\n"
      ],
      "metadata": {
        "id": "A8NhJEudcTDI"
      },
      "execution_count": null,
      "outputs": []
    },
    {
      "cell_type": "code",
      "source": [
        "def dataset_action_to_agent(dataset_actions, camera_margin=5):\n",
        "\n",
        "    camera_actions = dataset_actions[\"camera\"].squeeze()\n",
        "    #attack_actions = dataset_actions[\"attack\"].squeeze()\n",
        "    forward_actions = dataset_actions[\"forward\"].squeeze()\n",
        "    left_actions = dataset_actions[\"left\"].squeeze()\n",
        "    right_actions = dataset_actions[\"right\"].squeeze()\n",
        "    jump_actions = dataset_actions[\"jump\"].squeeze()\n",
        "    sprint_actions = dataset_actions[\"sprint\"].squeeze()\n",
        "\n",
        "    batch_size = len(camera_actions)\n",
        "    ca = np.zeros((batch_size,), dtype=int)\n",
        "    ba = np.zeros((batch_size,), dtype=int)\n",
        "\n",
        "    for i in range(len(camera_actions)):\n",
        "        if camera_actions[i][0] < -camera_margin:\n",
        "            ca[i] = 1\n",
        "        elif camera_actions[i][0] > camera_margin:\n",
        "            ca[i] = 2\n",
        "        elif camera_actions[i][1] > camera_margin:\n",
        "            ca[i] = 3\n",
        "        elif camera_actions[i][1] < -camera_margin:\n",
        "            ca[i] = 4\n",
        "        else:\n",
        "            ca[i] = 0\n",
        "\n",
        "        if jump_actions[i] == 1:\n",
        "            ba[i] = 3\n",
        "        elif left_actions[i] == 1:\n",
        "            ba[i] = 1\n",
        "        elif right_actions[i] == 1:\n",
        "            ba[i] = 2\n",
        "        elif sprint_actions[i] == 1:\n",
        "            ba[i] = 4\n",
        "        else:\n",
        "            ba[i] = 0\n",
        "\n",
        "    return ca, ba\n",
        "\n",
        "class ActionShaping():\n",
        "    def __init__(self, env, camera_angle=10):\n",
        "        self.env = env\n",
        "        self.camera_angle = camera_angle\n",
        "        self._button_actions = [\n",
        "            dict(forward=1),\n",
        "            # dict(back=1),\n",
        "            dict(left=1),\n",
        "            dict(right=1),\n",
        "            dict(jump=1),\n",
        "            dict(forward=1, sprint=1),\n",
        "        ]\n",
        "        self._camera_actions = [\n",
        "            dict(),\n",
        "            dict(camera=[-self.camera_angle, 0]),\n",
        "            dict(camera=[self.camera_angle, 0]),\n",
        "            dict(camera=[0, self.camera_angle]),\n",
        "            dict(camera=[0, -self.camera_angle]),\n",
        "        ]\n",
        "        self.distance = None\n",
        "\n",
        "    def get_action(self, ca, ba, t=1.2):\n",
        "        ca_probabilities = torch.softmax(ca/t, dim=1)[0].detach().cpu().numpy()\n",
        "        ba_probabilities = torch.softmax(ba/t, dim=1)[0].detach().cpu().numpy()\n",
        "        # Sample action according to the probabilities\n",
        "        camera_action = np.random.choice(self._camera_actions, p=ca_probabilities)\n",
        "        button_action = np.random.choice(self._button_actions, p=ca_probabilities)\n",
        "\n",
        "        act = self.env.action_space.noop()\n",
        "        act.update(camera_action)\n",
        "        act.update(button_action)\n",
        "        act.update(dict(jump=1))\n",
        "\n",
        "        ci = self._camera_actions.index(camera_action)\n",
        "        bi = self._button_actions.index(button_action)\n",
        "\n",
        "        return act, ci, bi\n",
        "\n",
        "    def get_reward(self, obs, destination=[-205, 258]):\n",
        "        location = np.array([obs['location_stats']['xpos'].item(), obs['location_stats']['zpos'].item()])\n",
        "        destination = np.array(destination)\n",
        "        distance = np.sqrt(np.sum((location - destination) ** 2))\n",
        "        if self.distance == None:\n",
        "            self.distance = distance\n",
        "            return 0\n",
        "\n",
        "        if self.distance - distance > 0.1:\n",
        "            self.distance = distance\n",
        "            return 1\n",
        "        elif distance < 2:\n",
        "            self.distance = None\n",
        "            return 100\n",
        "        else:\n",
        "            return 0\n",
        "\n",
        "    def reset(self, seed=10):\n",
        "        self.env.seed(seed)\n",
        "        self.distance = None\n",
        "        obs = self.env.reset()\n",
        "        return obs\n",
        "\n",
        "    def step(self, action):\n",
        "        obs, reward, done, info = self.env.step(action)\n",
        "        return obs, reward, done, info\n"
      ],
      "metadata": {
        "id": "3lF83sBTeEGK"
      },
      "execution_count": null,
      "outputs": []
    },
    {
      "cell_type": "markdown",
      "source": [
        "#Datasets"
      ],
      "metadata": {
        "id": "5kUHxoWScUBs"
      }
    },
    {
      "cell_type": "code",
      "source": [
        "# Get data\n",
        "minerl.data.download(directory='data', environment='MineRLNavigate-v0')\n",
        "data = minerl.data.make(\"MineRLNavigate-v0\", data_dir='data', num_workers=2)"
      ],
      "metadata": {
        "id": "hFP5Ev4fcWYb"
      },
      "execution_count": null,
      "outputs": []
    },
    {
      "cell_type": "markdown",
      "source": [
        "#Train"
      ],
      "metadata": {
        "id": "qjsvJGyZcWgJ"
      }
    },
    {
      "cell_type": "code",
      "source": [
        "# Model\n",
        "model = Cnn().to(device)\n",
        "optimizer = torch.optim.Adam(model.parameters(), lr=0.0001)\n",
        "criterion = nn.CrossEntropyLoss()"
      ],
      "metadata": {
        "id": "p83na_zfcX39"
      },
      "execution_count": null,
      "outputs": []
    },
    {
      "cell_type": "code",
      "source": [
        "device"
      ],
      "metadata": {
        "colab": {
          "base_uri": "https://localhost:8080/"
        },
        "id": "ndv7d2lsYiz1",
        "outputId": "6d642e69-86d9-478a-cc67-b23184709f34"
      },
      "execution_count": null,
      "outputs": [
        {
          "output_type": "execute_result",
          "data": {
            "text/plain": [
              "device(type='cuda')"
            ]
          },
          "metadata": {},
          "execution_count": 11
        }
      ]
    },
    {
      "cell_type": "code",
      "source": [
        "# Training loop\n",
        "step = 0\n",
        "losses = []\n",
        "for state, action, _, _, _ \\\n",
        "          in tqdm(data.batch_iter(num_epochs=6, batch_size=32, seq_len=1)):\n",
        "    # Get pov observations\n",
        "    obs = state['pov'].squeeze().astype(np.float32)\n",
        "    # Transpose and normalize\n",
        "    obs = obs.transpose(0, 3, 1, 2) / 255.0\n",
        "\n",
        "    # Translate batch of actions for the ActionShaping wrapper\n",
        "    ca, ba = dataset_action_to_agent(action)\n",
        "    # Remove samples with no corresponding action\n",
        "    mask = ca != -1\n",
        "    obs = obs[mask]\n",
        "    ca = ca[mask]\n",
        "    ba = ba[mask]\n",
        "\n",
        "    # Update weights with backprop\n",
        "    camera_output, buttons_ouput = model(torch.from_numpy(obs).float().to(device))\n",
        "    camera_loss = criterion(camera_output, torch.from_numpy(ca).long().to(device))\n",
        "    buttons_loss = criterion(buttons_ouput, torch.from_numpy(ba).long().to(device))\n",
        "    total_loss = camera_loss + buttons_loss\n",
        "    optimizer.zero_grad()\n",
        "    total_loss.backward()\n",
        "    optimizer.step()\n",
        "\n",
        "    # Print loss\n",
        "    step += 1\n",
        "    losses.append(total_loss.item())\n",
        "    if (step % 2000) == 0:\n",
        "        mean_loss = sum(losses) / len(losses)\n",
        "        tqdm.write(f'Step {step:>5} | Training loss = {mean_loss:.3f}')\n",
        "        losses.clear()\n",
        "\n",
        "    # break\n",
        "\n",
        "torch.save(model.state_dict(), 'navigation_1.pth')\n",
        "del data"
      ],
      "metadata": {
        "colab": {
          "base_uri": "https://localhost:8080/",
          "height": 396,
          "referenced_widgets": [
            "f33b5e2dbc494be4bd24bc9015731ae5",
            "bdb9e694f7db406bbfef9becc7b94ab4",
            "ff20a39102b84eda9545de09b8c5fc6c",
            "07641941a9404f0084b1e66f77d4daae",
            "dfda108b1bfc4882813709a51e59ffeb",
            "cc8aa5920bc44897adc59f1a6954d275",
            "57c8410e278945199aa5e6e27454e548",
            "d028d0f6452c46b5aacbfd7c74d96416",
            "465fc6983041435292506542e2cc183e",
            "419bec2f683a4eafa6d60ba39f910568",
            "83563faf389645979c92ad059c72efda"
          ]
        },
        "id": "9-FigaoyQ4dc",
        "outputId": "16cd247c-3874-4491-e2f5-1758938f948a"
      },
      "execution_count": null,
      "outputs": [
        {
          "output_type": "display_data",
          "data": {
            "text/plain": [
              "0it [00:00, ?it/s]"
            ],
            "application/vnd.jupyter.widget-view+json": {
              "version_major": 2,
              "version_minor": 0,
              "model_id": "f33b5e2dbc494be4bd24bc9015731ae5"
            }
          },
          "metadata": {}
        },
        {
          "output_type": "stream",
          "name": "stdout",
          "text": [
            "Step  2000 | Training loss = 0.739\n",
            "Step  4000 | Training loss = 0.768\n",
            "Step  6000 | Training loss = 0.891\n",
            "Step  8000 | Training loss = 0.780\n",
            "Step 10000 | Training loss = 0.690\n",
            "Step 12000 | Training loss = 0.858\n",
            "Step 14000 | Training loss = 0.770\n",
            "Step 16000 | Training loss = 0.764\n",
            "Step 18000 | Training loss = 0.687\n",
            "Step 20000 | Training loss = 0.754\n",
            "Step 22000 | Training loss = 0.678\n",
            "Step 24000 | Training loss = 0.797\n",
            "Step 26000 | Training loss = 0.888\n",
            "Step 28000 | Training loss = 0.811\n",
            "Step 30000 | Training loss = 0.748\n",
            "Step 32000 | Training loss = 0.701\n",
            "Step 34000 | Training loss = 0.757\n",
            "Step 36000 | Training loss = 0.776\n",
            "Step 38000 | Training loss = 0.722\n"
          ]
        }
      ]
    },
    {
      "cell_type": "code",
      "source": [
        "ca"
      ],
      "metadata": {
        "colab": {
          "base_uri": "https://localhost:8080/"
        },
        "id": "PaTS606_T_OJ",
        "outputId": "ceba13cd-69d3-4921-a7db-28c27bb92281"
      },
      "execution_count": null,
      "outputs": [
        {
          "output_type": "execute_result",
          "data": {
            "text/plain": [
              "array([3, 0, 0, 0, 0, 1, 3, 0, 0, 0, 0, 0, 0, 0, 0, 0, 4, 0, 0, 0, 0, 0,\n",
              "       0, 3, 0, 0, 0, 4, 0, 0, 0, 3])"
            ]
          },
          "metadata": {},
          "execution_count": 16
        }
      ]
    },
    {
      "cell_type": "code",
      "source": [
        "mask = ca != -1\n",
        "mask"
      ],
      "metadata": {
        "colab": {
          "base_uri": "https://localhost:8080/"
        },
        "id": "hy80o34LUCG3",
        "outputId": "631826c1-d087-4415-b767-95f59dcf86f1"
      },
      "execution_count": null,
      "outputs": [
        {
          "output_type": "execute_result",
          "data": {
            "text/plain": [
              "array([ True,  True,  True,  True,  True,  True,  True,  True,  True,\n",
              "        True,  True,  True,  True,  True,  True,  True,  True,  True,\n",
              "        True,  True,  True,  True,  True,  True,  True,  True,  True,\n",
              "        True,  True,  True,  True,  True])"
            ]
          },
          "metadata": {},
          "execution_count": 17
        }
      ]
    },
    {
      "cell_type": "code",
      "source": [
        "ca[mask]"
      ],
      "metadata": {
        "colab": {
          "base_uri": "https://localhost:8080/"
        },
        "id": "lbW1U_VNUR3Y",
        "outputId": "86342de5-dd7a-4da2-f0ca-7be1019df727"
      },
      "execution_count": null,
      "outputs": [
        {
          "output_type": "execute_result",
          "data": {
            "text/plain": [
              "array([3, 0, 0, 0, 0, 1, 3, 0, 0, 0, 0, 0, 0, 0, 0, 0, 4, 0, 0, 0, 0, 0,\n",
              "       0, 3, 0, 0, 0, 4, 0, 0, 0, 3])"
            ]
          },
          "metadata": {},
          "execution_count": 19
        }
      ]
    },
    {
      "cell_type": "markdown",
      "source": [
        "#Fine tune"
      ],
      "metadata": {
        "id": "xN0ScOETd61j"
      }
    },
    {
      "cell_type": "markdown",
      "source": [
        "## 1"
      ],
      "metadata": {
        "id": "Alu0r2FkfWlH"
      }
    },
    {
      "cell_type": "code",
      "source": [
        "policy_net = Cnn().to(device)\n",
        "\n",
        "policy_net.load_state_dict(torch.load('/content/navigation_1.pth', map_location=torch.device('cpu')))\n",
        "policy_net.train()\n",
        "\n",
        "target_net = Cnn().to(device)\n",
        "target_net.load_state_dict(policy_net.state_dict())"
      ],
      "metadata": {
        "id": "mfuVuQg7d-L0",
        "colab": {
          "base_uri": "https://localhost:8080/"
        },
        "outputId": "23709bfc-36cb-4df0-8fea-d0e52a4b03fb"
      },
      "execution_count": null,
      "outputs": [
        {
          "output_type": "execute_result",
          "data": {
            "text/plain": [
              "<All keys matched successfully>"
            ]
          },
          "metadata": {},
          "execution_count": 10
        }
      ]
    },
    {
      "cell_type": "code",
      "source": [
        "from collections import namedtuple, deque\n",
        "import random\n",
        "\n",
        "Transition = namedtuple('Transition',\n",
        "                        ('state', 'camera_action', 'button_action', 'next_state', 'reward'))\n",
        "\n",
        "class ReplayMemory(object):\n",
        "\n",
        "    def __init__(self, capacity):\n",
        "        self.memory = deque([], maxlen=capacity)\n",
        "\n",
        "    def push(self, *args):\n",
        "        \"\"\"Save a transition\"\"\"\n",
        "        self.memory.append(Transition(*args))\n",
        "\n",
        "    def sample(self, batch_size):\n",
        "        return random.sample(self.memory, batch_size)\n",
        "\n",
        "    def __len__(self):\n",
        "        return len(self.memory)"
      ],
      "metadata": {
        "id": "eHC7VvzFfVSx"
      },
      "execution_count": null,
      "outputs": []
    },
    {
      "cell_type": "code",
      "source": [
        "BATCH_SIZE = 64\n",
        "GAMMA = 0.99\n",
        "LR = 1e-4\n",
        "\n",
        "optimizer = optim.AdamW(policy_net.parameters(), lr=LR, amsgrad=True)\n",
        "memory = ReplayMemory(10000)\n",
        "\n",
        "def optimize_model():\n",
        "    if len(memory) < BATCH_SIZE:\n",
        "        return 0\n",
        "\n",
        "    transitions = memory.sample(BATCH_SIZE)\n",
        "    batch = Transition(*zip(*transitions))\n",
        "    #print(batch.state)\n",
        "\n",
        "    non_final_mask = torch.tensor(tuple(map(lambda s: s is not None,\n",
        "                                          batch.next_state)), device=device, dtype=torch.bool)\n",
        "    non_final_next_states = torch.cat([s for s in batch.next_state\n",
        "                                                if s is not None])\n",
        "    state_batch = torch.cat(batch.state)\n",
        "    #print(state_batch.shape)\n",
        "    camera_action_batch = torch.cat(batch.camera_action)\n",
        "    button_action_batch = torch.cat(batch.button_action)\n",
        "    camera_action_batch =  torch.unsqueeze(camera_action_batch, 0)\n",
        "    button_action_batch =  torch.unsqueeze(button_action_batch, 0)\n",
        "    #action_batch =  torch.unsqueeze(action_batch, 0)\n",
        "    #print(action_batch.shape)\n",
        "    reward_batch = torch.cat(batch.reward)\n",
        "\n",
        "    # Obtain Q values for both camera and buttons from the policy net\n",
        "    camera_state_action_values, buttons_state_action_values = policy_net(state_batch)\n",
        "    camera_state_action_values = camera_state_action_values.gather(1, camera_action_batch)\n",
        "    buttons_state_action_values = buttons_state_action_values.gather(1, button_action_batch)\n",
        "\n",
        "    # Obtain next state Q values for both camera and buttons from the target net\n",
        "    with torch.no_grad():\n",
        "        camera_next_state_values = torch.zeros(BATCH_SIZE, device=device)\n",
        "        buttons_next_state_values = torch.zeros(BATCH_SIZE, device=device)\n",
        "        camera_next_state, buttons_next_state = target_net(non_final_next_states)\n",
        "        camera_next_state_values[non_final_mask] = camera_next_state.max(1)[0]\n",
        "        buttons_next_state_values[non_final_mask] = buttons_next_state.max(1)[0]\n",
        "\n",
        "    # Compute the expected Q values\n",
        "    expected_camera_state_action_values = (camera_next_state_values * GAMMA) + reward_batch\n",
        "    expected_buttons_state_action_values = (buttons_next_state_values * GAMMA) + reward_batch\n",
        "\n",
        "    # Compute Huber loss\n",
        "    criterion = nn.SmoothL1Loss()\n",
        "    camera_loss = criterion(camera_state_action_values, expected_camera_state_action_values.unsqueeze(1))\n",
        "    buttons_loss = criterion(buttons_state_action_values, expected_buttons_state_action_values.unsqueeze(1))\n",
        "\n",
        "    # Total loss is sum of individual losses\n",
        "    loss = camera_loss + buttons_loss\n",
        "\n",
        "    # Optimize the model\n",
        "    optimizer.zero_grad()\n",
        "    loss.backward()\n",
        "\n",
        "    # In-place gradient clipping\n",
        "    torch.nn.utils.clip_grad_value_(policy_net.parameters(), 100)\n",
        "    optimizer.step()\n",
        "\n",
        "    return loss.item()"
      ],
      "metadata": {
        "id": "-Fy4OCPNfJYx"
      },
      "execution_count": null,
      "outputs": []
    },
    {
      "cell_type": "code",
      "source": [
        "from itertools import count\n",
        "\n",
        "TAU = 0.005\n",
        "\n",
        "replay = deque(maxlen=10000)\n",
        "\n",
        "if torch.cuda.is_available():\n",
        "    num_episodes = 10\n",
        "else:\n",
        "    num_episodes = 2\n",
        "\n",
        "steps = 0\n",
        "total_rewards = [0]\n",
        "play_steps = 100\n",
        "T = 100\n",
        "losses = []\n",
        "\n",
        "env = gym.make('MyMineRLTreechop-v0')\n",
        "env.seed(10)\n",
        "env_action = ActionShaping(env)\n",
        "\n",
        "for i_episode in range(num_episodes):\n",
        "    print('Episode: ' + str(i_episode), end='')\n",
        "    # Initialize the environment and get it's state\n",
        "\n",
        "    obs = env_action.reset()\n",
        "    pov = obs[\"pov\"]\n",
        "    pov = cv2.resize(pov, (64, 64)).astype(np.float32)\n",
        "    state = pov.transpose(2, 0, 1) / 255.0\n",
        "    state = torch.tensor(state, dtype=torch.float32, device=device).unsqueeze(0)\n",
        "    best_distance= 0\n",
        "    print(' reset')\n",
        "    for _ in range(play_steps):\n",
        "\n",
        "        camera_output, buttons_ouput = policy_net(state)\n",
        "        minerl_action, ci, bi = env_action.get_action(camera_output, buttons_ouput, t=T)\n",
        "        obs, reward, done, info = env_action.step(minerl_action)\n",
        "        steps += 1\n",
        "\n",
        "        if T > 1.0:\n",
        "            T = max(T * 0.998, 1)\n",
        "\n",
        "        reward = env_action.get_reward(obs)\n",
        "        # if reward > 0:\n",
        "        #     print(reward)\n",
        "        # print(env_action.distance)\n",
        "\n",
        "        total_rewards.append(reward+total_rewards[-1])\n",
        "        reward = torch.tensor([reward], device=device)\n",
        "        if reward == 100:\n",
        "            done = True\n",
        "\n",
        "        if done:\n",
        "            next_state = None\n",
        "        else:\n",
        "            pov = obs[\"pov\"]\n",
        "            replay.append(pov)\n",
        "            pov = cv2.resize(pov, (64, 64)).astype(np.float32)\n",
        "            next_state = pov.transpose(2, 0, 1) / 255.0\n",
        "            next_state = torch.tensor(next_state, dtype=torch.float32, device=device).unsqueeze(0)\n",
        "\n",
        "        # Store the transition in memory\n",
        "        camera_action = torch.tensor([ci], device=device)\n",
        "        button_action = torch.tensor([bi], device=device)\n",
        "        memory.push(state, camera_action, button_action, next_state, reward)\n",
        "\n",
        "        # Move to the next state\n",
        "        state = next_state\n",
        "\n",
        "        # Perform one step of the optimization (on the policy network)\n",
        "        loss = optimize_model()\n",
        "        losses.append(loss)\n",
        "\n",
        "        # Soft update of the target network's weights\n",
        "        # θ′ ← τ θ + (1 −τ )θ′\n",
        "        target_net_state_dict = target_net.state_dict()\n",
        "        policy_net_state_dict = policy_net.state_dict()\n",
        "        for key in policy_net_state_dict:\n",
        "            target_net_state_dict[key] = policy_net_state_dict[key]*TAU + target_net_state_dict[key]*(1-TAU)\n",
        "        target_net.load_state_dict(target_net_state_dict)\n",
        "\n",
        "        if done:\n",
        "            break\n",
        "\n",
        "        if steps % 1000 == 0:\n",
        "            mean_loss = sum(losses) / len(losses)\n",
        "            print(f'Step {step:>5} | Training loss = {mean_loss:.3f}')\n",
        "            losses.clear()\n",
        "\n",
        "        # break\n",
        "\n",
        "    print('Best distance: ' + str(env_action.distance))\n",
        "\n",
        "print('Complete')"
      ],
      "metadata": {
        "id": "P1y0mNgbjB0Z"
      },
      "execution_count": null,
      "outputs": []
    },
    {
      "cell_type": "code",
      "source": [
        "torch.save(model.state_dict(), 'navigation_2.pth')"
      ],
      "metadata": {
        "id": "JobFOE4pfXUu"
      },
      "execution_count": null,
      "outputs": []
    }
  ]
}